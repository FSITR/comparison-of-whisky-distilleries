{
 "cells": [
  {
   "cell_type": "markdown",
   "id": "broken-monitoring",
   "metadata": {},
   "source": [
    "# Import modules"
   ]
  },
  {
   "cell_type": "code",
   "execution_count": 1,
   "id": "baking-ireland",
   "metadata": {},
   "outputs": [],
   "source": [
    "import os\n",
    "import pandas as pd\n",
    "import matplotlib.pyplot as plt\n",
    "# from pandas_profiling import ProfileReport\n",
    "import math"
   ]
  },
  {
   "cell_type": "markdown",
   "id": "weighted-failing",
   "metadata": {},
   "source": [
    "# Read in data"
   ]
  },
  {
   "cell_type": "code",
   "execution_count": 2,
   "id": "liberal-large",
   "metadata": {},
   "outputs": [],
   "source": [
    "df = pd.read_csv('whisky.csv')\n",
    "df_orig = df.copy()"
   ]
  },
  {
   "cell_type": "markdown",
   "id": "advance-motel",
   "metadata": {},
   "source": [
    "# Describe data"
   ]
  },
  {
   "cell_type": "code",
   "execution_count": 3,
   "id": "extended-roller",
   "metadata": {},
   "outputs": [
    {
     "name": "stdout",
     "output_type": "stream",
     "text": [
      "<class 'pandas.core.frame.DataFrame'>\n",
      "RangeIndex: 86 entries, 0 to 85\n",
      "Data columns (total 17 columns):\n",
      " #   Column      Non-Null Count  Dtype \n",
      "---  ------      --------------  ----- \n",
      " 0   RowID       86 non-null     int64 \n",
      " 1   Distillery  86 non-null     object\n",
      " 2   Body        86 non-null     int64 \n",
      " 3   Sweetness   86 non-null     int64 \n",
      " 4   Smoky       86 non-null     int64 \n",
      " 5   Medicinal   86 non-null     int64 \n",
      " 6   Tobacco     86 non-null     int64 \n",
      " 7   Honey       86 non-null     int64 \n",
      " 8   Spicy       86 non-null     int64 \n",
      " 9   Winey       86 non-null     int64 \n",
      " 10  Nutty       86 non-null     int64 \n",
      " 11  Malty       86 non-null     int64 \n",
      " 12  Fruity      86 non-null     int64 \n",
      " 13  Floral      86 non-null     int64 \n",
      " 14  Postcode    86 non-null     object\n",
      " 15  Latitude    86 non-null     int64 \n",
      " 16  Longitude   86 non-null     int64 \n",
      "dtypes: int64(15), object(2)\n",
      "memory usage: 10.8+ KB\n"
     ]
    }
   ],
   "source": [
    "df.info()"
   ]
  },
  {
   "cell_type": "markdown",
   "id": "swiss-field",
   "metadata": {},
   "source": [
    "# Explore data"
   ]
  },
  {
   "cell_type": "code",
   "execution_count": 4,
   "id": "homeless-christianity",
   "metadata": {},
   "outputs": [
    {
     "data": {
      "text/plain": [
       "Index(['RowID', 'Distillery', 'Body', 'Sweetness', 'Smoky', 'Medicinal',\n",
       "       'Tobacco', 'Honey', 'Spicy', 'Winey', 'Nutty', 'Malty', 'Fruity',\n",
       "       'Floral', 'Postcode', 'Latitude', 'Longitude'],\n",
       "      dtype='object')"
      ]
     },
     "execution_count": 4,
     "metadata": {},
     "output_type": "execute_result"
    }
   ],
   "source": [
    "df.columns"
   ]
  },
  {
   "cell_type": "code",
   "execution_count": 5,
   "id": "imperial-sucking",
   "metadata": {},
   "outputs": [],
   "source": [
    "# df.profile_report()"
   ]
  },
  {
   "cell_type": "code",
   "execution_count": 6,
   "id": "proper-medicaid",
   "metadata": {},
   "outputs": [],
   "source": [
    "dtype_dict = df.dtypes.apply(str).reset_index().groupby(0)['index'].apply(lambda g: list(g.values)).to_dict()"
   ]
  },
  {
   "cell_type": "code",
   "execution_count": 7,
   "id": "dramatic-shower",
   "metadata": {},
   "outputs": [
    {
     "name": "stdout",
     "output_type": "stream",
     "text": [
      "int64\n",
      "      ['RowID', 'Body', 'Sweetness', 'Smoky', 'Medicinal', 'Tobacco', 'Honey', 'Spicy', 'Winey', 'Nutty', 'Malty', 'Fruity', 'Floral', 'Latitude', 'Longitude']\n",
      "object\n",
      "      ['Distillery', 'Postcode']\n"
     ]
    }
   ],
   "source": [
    "for dtype, cols in dtype_dict.items():\n",
    "    print(dtype)\n",
    "    print(' '*5,cols)"
   ]
  },
  {
   "cell_type": "code",
   "execution_count": 8,
   "id": "sweet-assist",
   "metadata": {},
   "outputs": [
    {
     "data": {
      "text/html": [
       "<div>\n",
       "<style scoped>\n",
       "    .dataframe tbody tr th:only-of-type {\n",
       "        vertical-align: middle;\n",
       "    }\n",
       "\n",
       "    .dataframe tbody tr th {\n",
       "        vertical-align: top;\n",
       "    }\n",
       "\n",
       "    .dataframe thead th {\n",
       "        text-align: right;\n",
       "    }\n",
       "</style>\n",
       "<table border=\"1\" class=\"dataframe\">\n",
       "  <thead>\n",
       "    <tr style=\"text-align: right;\">\n",
       "      <th></th>\n",
       "      <th>RowID</th>\n",
       "      <th>Distillery</th>\n",
       "      <th>Body</th>\n",
       "      <th>Sweetness</th>\n",
       "      <th>Smoky</th>\n",
       "      <th>Medicinal</th>\n",
       "      <th>Tobacco</th>\n",
       "      <th>Honey</th>\n",
       "      <th>Spicy</th>\n",
       "      <th>Winey</th>\n",
       "      <th>Nutty</th>\n",
       "      <th>Malty</th>\n",
       "      <th>Fruity</th>\n",
       "      <th>Floral</th>\n",
       "      <th>Postcode</th>\n",
       "      <th>Latitude</th>\n",
       "      <th>Longitude</th>\n",
       "    </tr>\n",
       "  </thead>\n",
       "  <tbody>\n",
       "    <tr>\n",
       "      <th>0</th>\n",
       "      <td>1</td>\n",
       "      <td>Aberfeldy</td>\n",
       "      <td>2</td>\n",
       "      <td>2</td>\n",
       "      <td>2</td>\n",
       "      <td>0</td>\n",
       "      <td>0</td>\n",
       "      <td>2</td>\n",
       "      <td>1</td>\n",
       "      <td>2</td>\n",
       "      <td>2</td>\n",
       "      <td>2</td>\n",
       "      <td>2</td>\n",
       "      <td>2</td>\n",
       "      <td>\\tPH15 2EB</td>\n",
       "      <td>286580</td>\n",
       "      <td>749680</td>\n",
       "    </tr>\n",
       "    <tr>\n",
       "      <th>1</th>\n",
       "      <td>2</td>\n",
       "      <td>Aberlour</td>\n",
       "      <td>3</td>\n",
       "      <td>3</td>\n",
       "      <td>1</td>\n",
       "      <td>0</td>\n",
       "      <td>0</td>\n",
       "      <td>4</td>\n",
       "      <td>3</td>\n",
       "      <td>2</td>\n",
       "      <td>2</td>\n",
       "      <td>3</td>\n",
       "      <td>3</td>\n",
       "      <td>2</td>\n",
       "      <td>\\tAB38 9PJ</td>\n",
       "      <td>326340</td>\n",
       "      <td>842570</td>\n",
       "    </tr>\n",
       "    <tr>\n",
       "      <th>2</th>\n",
       "      <td>3</td>\n",
       "      <td>AnCnoc</td>\n",
       "      <td>1</td>\n",
       "      <td>3</td>\n",
       "      <td>2</td>\n",
       "      <td>0</td>\n",
       "      <td>0</td>\n",
       "      <td>2</td>\n",
       "      <td>0</td>\n",
       "      <td>0</td>\n",
       "      <td>2</td>\n",
       "      <td>2</td>\n",
       "      <td>3</td>\n",
       "      <td>2</td>\n",
       "      <td>\\tAB5 5LI</td>\n",
       "      <td>352960</td>\n",
       "      <td>839320</td>\n",
       "    </tr>\n",
       "    <tr>\n",
       "      <th>3</th>\n",
       "      <td>4</td>\n",
       "      <td>Ardbeg</td>\n",
       "      <td>4</td>\n",
       "      <td>1</td>\n",
       "      <td>4</td>\n",
       "      <td>4</td>\n",
       "      <td>0</td>\n",
       "      <td>0</td>\n",
       "      <td>2</td>\n",
       "      <td>0</td>\n",
       "      <td>1</td>\n",
       "      <td>2</td>\n",
       "      <td>1</td>\n",
       "      <td>0</td>\n",
       "      <td>\\tPA42 7EB</td>\n",
       "      <td>141560</td>\n",
       "      <td>646220</td>\n",
       "    </tr>\n",
       "    <tr>\n",
       "      <th>4</th>\n",
       "      <td>5</td>\n",
       "      <td>Ardmore</td>\n",
       "      <td>2</td>\n",
       "      <td>2</td>\n",
       "      <td>2</td>\n",
       "      <td>0</td>\n",
       "      <td>0</td>\n",
       "      <td>1</td>\n",
       "      <td>1</td>\n",
       "      <td>1</td>\n",
       "      <td>2</td>\n",
       "      <td>3</td>\n",
       "      <td>1</td>\n",
       "      <td>1</td>\n",
       "      <td>\\tAB54 4NH</td>\n",
       "      <td>355350</td>\n",
       "      <td>829140</td>\n",
       "    </tr>\n",
       "  </tbody>\n",
       "</table>\n",
       "</div>"
      ],
      "text/plain": [
       "   RowID Distillery  Body  Sweetness  Smoky  Medicinal  Tobacco  Honey  Spicy  \\\n",
       "0      1  Aberfeldy     2          2      2          0        0      2      1   \n",
       "1      2   Aberlour     3          3      1          0        0      4      3   \n",
       "2      3     AnCnoc     1          3      2          0        0      2      0   \n",
       "3      4     Ardbeg     4          1      4          4        0      0      2   \n",
       "4      5    Ardmore     2          2      2          0        0      1      1   \n",
       "\n",
       "   Winey  Nutty  Malty  Fruity  Floral    Postcode  Latitude  Longitude  \n",
       "0      2      2      2       2       2  \\tPH15 2EB    286580     749680  \n",
       "1      2      2      3       3       2  \\tAB38 9PJ    326340     842570  \n",
       "2      0      2      2       3       2   \\tAB5 5LI    352960     839320  \n",
       "3      0      1      2       1       0  \\tPA42 7EB    141560     646220  \n",
       "4      1      2      3       1       1  \\tAB54 4NH    355350     829140  "
      ]
     },
     "execution_count": 8,
     "metadata": {},
     "output_type": "execute_result"
    }
   ],
   "source": [
    "df.head()"
   ]
  },
  {
   "cell_type": "markdown",
   "id": "overall-visitor",
   "metadata": {},
   "source": [
    "# Clean data"
   ]
  },
  {
   "cell_type": "code",
   "execution_count": 9,
   "id": "valued-relation",
   "metadata": {},
   "outputs": [],
   "source": [
    "# remove incorrect lat long values\n",
    "df = df.drop(columns=['Latitude','Longitude'])"
   ]
  },
  {
   "cell_type": "code",
   "execution_count": 10,
   "id": "initial-steam",
   "metadata": {},
   "outputs": [],
   "source": [
    "# clean postcode column\n",
    "df['Postcode'] = df['Postcode'].str.replace('\\t','').str.strip()\n",
    "df = df.rename(columns={'Postcode':'postcode'})"
   ]
  },
  {
   "cell_type": "code",
   "execution_count": 11,
   "id": "welcome-prayer",
   "metadata": {},
   "outputs": [],
   "source": [
    "# read in postcode data\n",
    "dfpc = pd.read_csv('ukpostcodes.csv')"
   ]
  },
  {
   "cell_type": "code",
   "execution_count": 12,
   "id": "alpha-religion",
   "metadata": {},
   "outputs": [],
   "source": [
    "# merge lat long data with postcode data\n",
    "df = df.merge(dfpc,left_on='postcode', right_on='postcode',how='left')"
   ]
  },
  {
   "cell_type": "code",
   "execution_count": 13,
   "id": "found-zimbabwe",
   "metadata": {},
   "outputs": [],
   "source": [
    "#define conversion and rotation functions\n",
    "def longlat_to_xy(s):\n",
    "    R = 6371 #Earth radius in km\n",
    "    x = R*math.cos((math.pi/180)*s['latitude'])*math.cos((math.pi/180)*s['longitude'])\n",
    "    y = R*math.cos((math.pi/180)*s['latitude'])*math.sin((math.pi/180)*s['longitude'])\n",
    "    return pd.Series([x,y],index=['x','y'])\n",
    "\n",
    "def rotate_xy(s,theta):\n",
    "    x,y = s['x'],s['y']\n",
    "    x_n = x*math.cos((math.pi/180)*theta) - y*math.sin((math.pi/180)*theta)\n",
    "    y_n = y*math.cos((math.pi/180)*theta) + x*math.sin((math.pi/180)*theta)\n",
    "    return pd.Series([x_n,y_n],index=['x','y'])"
   ]
  },
  {
   "cell_type": "code",
   "execution_count": 14,
   "id": "enormous-manitoba",
   "metadata": {},
   "outputs": [],
   "source": [
    "# convert to x, y\n",
    "df[['x','y']] = df.apply(longlat_to_xy,axis=1)"
   ]
  },
  {
   "cell_type": "code",
   "execution_count": 15,
   "id": "stable-hundred",
   "metadata": {},
   "outputs": [],
   "source": [
    "# rotate -90 deg\n",
    "df[['x','y']] = df.apply(rotate_xy,theta=-90,axis=1)"
   ]
  },
  {
   "cell_type": "code",
   "execution_count": 16,
   "id": "invisible-might",
   "metadata": {},
   "outputs": [],
   "source": [
    "# rescale axis\n",
    "df['x'] = df['x']-df['x'].min()\n",
    "df['y'] = df['y']-df['y'].min()\n",
    "x_size = 5\n",
    "y_size = x_size * df['y'].max()/df['x'].max()"
   ]
  },
  {
   "cell_type": "code",
   "execution_count": 17,
   "id": "given-examination",
   "metadata": {},
   "outputs": [
    {
     "data": {
      "text/plain": [
       "<matplotlib.collections.PathCollection at 0x1a9dcf28>"
      ]
     },
     "execution_count": 17,
     "metadata": {},
     "output_type": "execute_result"
    },
    {
     "data": {
      "image/png": "[encoded data removed]",
      "text/plain": [
       "<Figure size 576x720 with 1 Axes>"
      ]
     },
     "metadata": {
      "needs_background": "light"
     },
     "output_type": "display_data"
    }
   ],
   "source": [
    "#plot results\n",
    "fig,ax=plt.subplots(figsize=(8,10))\n",
    "ax.scatter(df['x'], df['y'],c='white',ec='k')"
   ]
  },
  {
   "cell_type": "code",
   "execution_count": 18,
   "id": "static-enough",
   "metadata": {},
   "outputs": [
    {
     "name": "stdout",
     "output_type": "stream",
     "text": [
      "<class 'pandas.core.frame.DataFrame'>\n",
      "Int64Index: 86 entries, 0 to 85\n",
      "Data columns (total 20 columns):\n",
      " #   Column      Non-Null Count  Dtype  \n",
      "---  ------      --------------  -----  \n",
      " 0   RowID       86 non-null     int64  \n",
      " 1   Distillery  86 non-null     object \n",
      " 2   Body        86 non-null     int64  \n",
      " 3   Sweetness   86 non-null     int64  \n",
      " 4   Smoky       86 non-null     int64  \n",
      " 5   Medicinal   86 non-null     int64  \n",
      " 6   Tobacco     86 non-null     int64  \n",
      " 7   Honey       86 non-null     int64  \n",
      " 8   Spicy       86 non-null     int64  \n",
      " 9   Winey       86 non-null     int64  \n",
      " 10  Nutty       86 non-null     int64  \n",
      " 11  Malty       86 non-null     int64  \n",
      " 12  Fruity      86 non-null     int64  \n",
      " 13  Floral      86 non-null     int64  \n",
      " 14  postcode    86 non-null     object \n",
      " 15  id          71 non-null     float64\n",
      " 16  latitude    71 non-null     float64\n",
      " 17  longitude   71 non-null     float64\n",
      " 18  x           71 non-null     float64\n",
      " 19  y           71 non-null     float64\n",
      "dtypes: float64(5), int64(13), object(2)\n",
      "memory usage: 13.4+ KB\n"
     ]
    }
   ],
   "source": [
    "df.info()"
   ]
  },
  {
   "cell_type": "markdown",
   "id": "outside-server",
   "metadata": {},
   "source": [
    "# Impute missing values"
   ]
  },
  {
   "cell_type": "code",
   "execution_count": 19,
   "id": "respiratory-quantity",
   "metadata": {},
   "outputs": [],
   "source": [
    "# get distillery names with missing long lat lookup values\n",
    "missing = df[df['x'].isna()]['Distillery']\n",
    "missing_names = missing.values\n",
    "missing_idx = missing.index"
   ]
  },
  {
   "cell_type": "code",
   "execution_count": 20,
   "id": "excess-banking",
   "metadata": {},
   "outputs": [],
   "source": [
    "missing_codes_start = df_orig[df_orig['Distillery'].isin(missing_names)]['Postcode'].str.replace('\\t','').str.strip().str.split(expand=True)[0].reset_index(drop=True)"
   ]
  },
  {
   "cell_type": "code",
   "execution_count": 21,
   "id": "normal-staff",
   "metadata": {},
   "outputs": [],
   "source": [
    "dft = df[['postcode','x','y']].copy()\n",
    "dft['code_start'] = dft['postcode'].str.split(expand=True)[0]"
   ]
  },
  {
   "cell_type": "code",
   "execution_count": 22,
   "id": "pressed-certification",
   "metadata": {},
   "outputs": [],
   "source": [
    "codes_start_means = dft.groupby('code_start')[['x','y']].mean()"
   ]
  },
  {
   "cell_type": "code",
   "execution_count": 23,
   "id": "exciting-packaging",
   "metadata": {},
   "outputs": [],
   "source": [
    "missing_codes_start_means = codes_start_means.loc[missing_codes_start]"
   ]
  },
  {
   "cell_type": "code",
   "execution_count": 24,
   "id": "funky-steps",
   "metadata": {},
   "outputs": [],
   "source": [
    "missing_codes_start_means = missing_codes_start_means.drop_duplicates().dropna()"
   ]
  },
  {
   "cell_type": "code",
   "execution_count": 25,
   "id": "coupled-midnight",
   "metadata": {},
   "outputs": [],
   "source": [
    "missing_val_dict = missing_codes_start_means.T.to_dict('list')"
   ]
  },
  {
   "cell_type": "code",
   "execution_count": 26,
   "id": "toxic-executive",
   "metadata": {},
   "outputs": [],
   "source": [
    "def fill_missing_value(s):\n",
    "    code = s['postcode'].split()[0].strip()\n",
    "    try: res = missing_val_dict[code]\n",
    "    except: res = [None,None]\n",
    "    return res"
   ]
  },
  {
   "cell_type": "code",
   "execution_count": 27,
   "id": "laden-roberts",
   "metadata": {},
   "outputs": [],
   "source": [
    "res = df[df['Distillery'].isin(missing_names)].apply(fill_missing_value,axis=1)\n",
    "df.loc[missing_idx,'x'] = res.apply(lambda x: x[0])\n",
    "df.loc[missing_idx,'y'] = res.apply(lambda x: x[1])"
   ]
  },
  {
   "cell_type": "markdown",
   "id": "ultimate-westminster",
   "metadata": {},
   "source": [
    "# Final data"
   ]
  },
  {
   "cell_type": "code",
   "execution_count": 34,
   "id": "divided-viewer",
   "metadata": {},
   "outputs": [],
   "source": [
    "# drop rows with no lat long lookup value\n",
    "records_dropped = df[df['x'].isna()]\n",
    "df = df[df['x'].notna()].reset_index(drop=True)\n",
    "df = df.drop(columns=['postcode','id','latitude','longitude','RowID'])"
   ]
  },
  {
   "cell_type": "code",
   "execution_count": 36,
   "id": "joint-seating",
   "metadata": {},
   "outputs": [
    {
     "data": {
      "text/html": [
       "<div>\n",
       "<style scoped>\n",
       "    .dataframe tbody tr th:only-of-type {\n",
       "        vertical-align: middle;\n",
       "    }\n",
       "\n",
       "    .dataframe tbody tr th {\n",
       "        vertical-align: top;\n",
       "    }\n",
       "\n",
       "    .dataframe thead th {\n",
       "        text-align: right;\n",
       "    }\n",
       "</style>\n",
       "<table border=\"1\" class=\"dataframe\">\n",
       "  <thead>\n",
       "    <tr style=\"text-align: right;\">\n",
       "      <th></th>\n",
       "      <th>RowID</th>\n",
       "      <th>Distillery</th>\n",
       "      <th>Body</th>\n",
       "      <th>Sweetness</th>\n",
       "      <th>Smoky</th>\n",
       "      <th>Medicinal</th>\n",
       "      <th>Tobacco</th>\n",
       "      <th>Honey</th>\n",
       "      <th>Spicy</th>\n",
       "      <th>Winey</th>\n",
       "      <th>Nutty</th>\n",
       "      <th>Malty</th>\n",
       "      <th>Fruity</th>\n",
       "      <th>Floral</th>\n",
       "      <th>postcode</th>\n",
       "      <th>id</th>\n",
       "      <th>latitude</th>\n",
       "      <th>longitude</th>\n",
       "      <th>x</th>\n",
       "      <th>y</th>\n",
       "    </tr>\n",
       "  </thead>\n",
       "  <tbody>\n",
       "    <tr>\n",
       "      <th>2</th>\n",
       "      <td>3</td>\n",
       "      <td>AnCnoc</td>\n",
       "      <td>1</td>\n",
       "      <td>3</td>\n",
       "      <td>2</td>\n",
       "      <td>0</td>\n",
       "      <td>0</td>\n",
       "      <td>2</td>\n",
       "      <td>0</td>\n",
       "      <td>0</td>\n",
       "      <td>2</td>\n",
       "      <td>2</td>\n",
       "      <td>3</td>\n",
       "      <td>2</td>\n",
       "      <td>AB5 5LI</td>\n",
       "      <td>NaN</td>\n",
       "      <td>NaN</td>\n",
       "      <td>NaN</td>\n",
       "      <td>NaN</td>\n",
       "      <td>NaN</td>\n",
       "    </tr>\n",
       "    <tr>\n",
       "      <th>18</th>\n",
       "      <td>19</td>\n",
       "      <td>Bowmore</td>\n",
       "      <td>2</td>\n",
       "      <td>2</td>\n",
       "      <td>3</td>\n",
       "      <td>1</td>\n",
       "      <td>0</td>\n",
       "      <td>2</td>\n",
       "      <td>2</td>\n",
       "      <td>1</td>\n",
       "      <td>1</td>\n",
       "      <td>1</td>\n",
       "      <td>1</td>\n",
       "      <td>2</td>\n",
       "      <td>PA43 7GS</td>\n",
       "      <td>NaN</td>\n",
       "      <td>NaN</td>\n",
       "      <td>NaN</td>\n",
       "      <td>NaN</td>\n",
       "      <td>NaN</td>\n",
       "    </tr>\n",
       "    <tr>\n",
       "      <th>23</th>\n",
       "      <td>24</td>\n",
       "      <td>Clynelish</td>\n",
       "      <td>3</td>\n",
       "      <td>2</td>\n",
       "      <td>3</td>\n",
       "      <td>3</td>\n",
       "      <td>1</td>\n",
       "      <td>0</td>\n",
       "      <td>2</td>\n",
       "      <td>0</td>\n",
       "      <td>1</td>\n",
       "      <td>1</td>\n",
       "      <td>2</td>\n",
       "      <td>0</td>\n",
       "      <td>KW9 6LB</td>\n",
       "      <td>NaN</td>\n",
       "      <td>NaN</td>\n",
       "      <td>NaN</td>\n",
       "      <td>NaN</td>\n",
       "      <td>NaN</td>\n",
       "    </tr>\n",
       "    <tr>\n",
       "      <th>32</th>\n",
       "      <td>33</td>\n",
       "      <td>GlenDeveronMacduff</td>\n",
       "      <td>2</td>\n",
       "      <td>3</td>\n",
       "      <td>1</td>\n",
       "      <td>1</td>\n",
       "      <td>1</td>\n",
       "      <td>1</td>\n",
       "      <td>1</td>\n",
       "      <td>2</td>\n",
       "      <td>0</td>\n",
       "      <td>2</td>\n",
       "      <td>0</td>\n",
       "      <td>1</td>\n",
       "      <td>AB4 3JT</td>\n",
       "      <td>NaN</td>\n",
       "      <td>NaN</td>\n",
       "      <td>NaN</td>\n",
       "      <td>NaN</td>\n",
       "      <td>NaN</td>\n",
       "    </tr>\n",
       "    <tr>\n",
       "      <th>67</th>\n",
       "      <td>68</td>\n",
       "      <td>OldFettercairn</td>\n",
       "      <td>1</td>\n",
       "      <td>2</td>\n",
       "      <td>2</td>\n",
       "      <td>0</td>\n",
       "      <td>1</td>\n",
       "      <td>2</td>\n",
       "      <td>2</td>\n",
       "      <td>1</td>\n",
       "      <td>2</td>\n",
       "      <td>3</td>\n",
       "      <td>1</td>\n",
       "      <td>1</td>\n",
       "      <td>AB30 1YE</td>\n",
       "      <td>NaN</td>\n",
       "      <td>NaN</td>\n",
       "      <td>NaN</td>\n",
       "      <td>NaN</td>\n",
       "      <td>NaN</td>\n",
       "    </tr>\n",
       "  </tbody>\n",
       "</table>\n",
       "</div>"
      ],
      "text/plain": [
       "    RowID          Distillery  Body  Sweetness  Smoky  Medicinal  Tobacco  \\\n",
       "2       3              AnCnoc     1          3      2          0        0   \n",
       "18     19             Bowmore     2          2      3          1        0   \n",
       "23     24           Clynelish     3          2      3          3        1   \n",
       "32     33  GlenDeveronMacduff     2          3      1          1        1   \n",
       "67     68      OldFettercairn     1          2      2          0        1   \n",
       "\n",
       "    Honey  Spicy  Winey  Nutty  Malty  Fruity  Floral  postcode  id  latitude  \\\n",
       "2       2      0      0      2      2       3       2   AB5 5LI NaN       NaN   \n",
       "18      2      2      1      1      1       1       2  PA43 7GS NaN       NaN   \n",
       "23      0      2      0      1      1       2       0   KW9 6LB NaN       NaN   \n",
       "32      1      1      2      0      2       0       1   AB4 3JT NaN       NaN   \n",
       "67      2      2      1      2      3       1       1  AB30 1YE NaN       NaN   \n",
       "\n",
       "    longitude   x   y  \n",
       "2         NaN NaN NaN  \n",
       "18        NaN NaN NaN  \n",
       "23        NaN NaN NaN  \n",
       "32        NaN NaN NaN  \n",
       "67        NaN NaN NaN  "
      ]
     },
     "execution_count": 36,
     "metadata": {},
     "output_type": "execute_result"
    }
   ],
   "source": [
    "records_dropped"
   ]
  },
  {
   "cell_type": "code",
   "execution_count": 35,
   "id": "synthetic-marijuana",
   "metadata": {},
   "outputs": [
    {
     "name": "stdout",
     "output_type": "stream",
     "text": [
      "<class 'pandas.core.frame.DataFrame'>\n",
      "RangeIndex: 81 entries, 0 to 80\n",
      "Data columns (total 15 columns):\n",
      " #   Column      Non-Null Count  Dtype  \n",
      "---  ------      --------------  -----  \n",
      " 0   Distillery  81 non-null     object \n",
      " 1   Body        81 non-null     int64  \n",
      " 2   Sweetness   81 non-null     int64  \n",
      " 3   Smoky       81 non-null     int64  \n",
      " 4   Medicinal   81 non-null     int64  \n",
      " 5   Tobacco     81 non-null     int64  \n",
      " 6   Honey       81 non-null     int64  \n",
      " 7   Spicy       81 non-null     int64  \n",
      " 8   Winey       81 non-null     int64  \n",
      " 9   Nutty       81 non-null     int64  \n",
      " 10  Malty       81 non-null     int64  \n",
      " 11  Fruity      81 non-null     int64  \n",
      " 12  Floral      81 non-null     int64  \n",
      " 13  x           81 non-null     float64\n",
      " 14  y           81 non-null     float64\n",
      "dtypes: float64(2), int64(12), object(1)\n",
      "memory usage: 9.2+ KB\n"
     ]
    }
   ],
   "source": [
    "df.info()"
   ]
  },
  {
   "cell_type": "code",
   "execution_count": 37,
   "id": "expected-borough",
   "metadata": {},
   "outputs": [
    {
     "data": {
      "text/html": [
       "<div>\n",
       "<style scoped>\n",
       "    .dataframe tbody tr th:only-of-type {\n",
       "        vertical-align: middle;\n",
       "    }\n",
       "\n",
       "    .dataframe tbody tr th {\n",
       "        vertical-align: top;\n",
       "    }\n",
       "\n",
       "    .dataframe thead th {\n",
       "        text-align: right;\n",
       "    }\n",
       "</style>\n",
       "<table border=\"1\" class=\"dataframe\">\n",
       "  <thead>\n",
       "    <tr style=\"text-align: right;\">\n",
       "      <th></th>\n",
       "      <th>Distillery</th>\n",
       "      <th>Body</th>\n",
       "      <th>Sweetness</th>\n",
       "      <th>Smoky</th>\n",
       "      <th>Medicinal</th>\n",
       "      <th>Tobacco</th>\n",
       "      <th>Honey</th>\n",
       "      <th>Spicy</th>\n",
       "      <th>Winey</th>\n",
       "      <th>Nutty</th>\n",
       "      <th>Malty</th>\n",
       "      <th>Fruity</th>\n",
       "      <th>Floral</th>\n",
       "      <th>x</th>\n",
       "      <th>y</th>\n",
       "    </tr>\n",
       "  </thead>\n",
       "  <tbody>\n",
       "    <tr>\n",
       "      <th>0</th>\n",
       "      <td>Aberfeldy</td>\n",
       "      <td>2</td>\n",
       "      <td>2</td>\n",
       "      <td>2</td>\n",
       "      <td>0</td>\n",
       "      <td>0</td>\n",
       "      <td>2</td>\n",
       "      <td>1</td>\n",
       "      <td>2</td>\n",
       "      <td>2</td>\n",
       "      <td>2</td>\n",
       "      <td>2</td>\n",
       "      <td>2</td>\n",
       "      <td>161.631967</td>\n",
       "      <td>159.196369</td>\n",
       "    </tr>\n",
       "    <tr>\n",
       "      <th>1</th>\n",
       "      <td>Aberlour</td>\n",
       "      <td>3</td>\n",
       "      <td>3</td>\n",
       "      <td>1</td>\n",
       "      <td>0</td>\n",
       "      <td>0</td>\n",
       "      <td>4</td>\n",
       "      <td>3</td>\n",
       "      <td>2</td>\n",
       "      <td>2</td>\n",
       "      <td>3</td>\n",
       "      <td>3</td>\n",
       "      <td>2</td>\n",
       "      <td>203.945680</td>\n",
       "      <td>235.307777</td>\n",
       "    </tr>\n",
       "    <tr>\n",
       "      <th>2</th>\n",
       "      <td>Ardbeg</td>\n",
       "      <td>4</td>\n",
       "      <td>1</td>\n",
       "      <td>4</td>\n",
       "      <td>4</td>\n",
       "      <td>0</td>\n",
       "      <td>0</td>\n",
       "      <td>2</td>\n",
       "      <td>0</td>\n",
       "      <td>1</td>\n",
       "      <td>2</td>\n",
       "      <td>1</td>\n",
       "      <td>0</td>\n",
       "      <td>14.327041</td>\n",
       "      <td>80.771859</td>\n",
       "    </tr>\n",
       "    <tr>\n",
       "      <th>3</th>\n",
       "      <td>Ardmore</td>\n",
       "      <td>2</td>\n",
       "      <td>2</td>\n",
       "      <td>2</td>\n",
       "      <td>0</td>\n",
       "      <td>0</td>\n",
       "      <td>1</td>\n",
       "      <td>1</td>\n",
       "      <td>1</td>\n",
       "      <td>2</td>\n",
       "      <td>3</td>\n",
       "      <td>1</td>\n",
       "      <td>1</td>\n",
       "      <td>232.450057</td>\n",
       "      <td>222.859796</td>\n",
       "    </tr>\n",
       "    <tr>\n",
       "      <th>4</th>\n",
       "      <td>ArranIsleOf</td>\n",
       "      <td>2</td>\n",
       "      <td>3</td>\n",
       "      <td>1</td>\n",
       "      <td>1</td>\n",
       "      <td>0</td>\n",
       "      <td>1</td>\n",
       "      <td>1</td>\n",
       "      <td>1</td>\n",
       "      <td>0</td>\n",
       "      <td>1</td>\n",
       "      <td>1</td>\n",
       "      <td>2</td>\n",
       "      <td>66.625977</td>\n",
       "      <td>81.029302</td>\n",
       "    </tr>\n",
       "  </tbody>\n",
       "</table>\n",
       "</div>"
      ],
      "text/plain": [
       "    Distillery  Body  Sweetness  Smoky  Medicinal  Tobacco  Honey  Spicy  \\\n",
       "0    Aberfeldy     2          2      2          0        0      2      1   \n",
       "1     Aberlour     3          3      1          0        0      4      3   \n",
       "2       Ardbeg     4          1      4          4        0      0      2   \n",
       "3      Ardmore     2          2      2          0        0      1      1   \n",
       "4  ArranIsleOf     2          3      1          1        0      1      1   \n",
       "\n",
       "   Winey  Nutty  Malty  Fruity  Floral           x           y  \n",
       "0      2      2      2       2       2  161.631967  159.196369  \n",
       "1      2      2      3       3       2  203.945680  235.307777  \n",
       "2      0      1      2       1       0   14.327041   80.771859  \n",
       "3      1      2      3       1       1  232.450057  222.859796  \n",
       "4      1      0      1       1       2   66.625977   81.029302  "
      ]
     },
     "execution_count": 37,
     "metadata": {},
     "output_type": "execute_result"
    }
   ],
   "source": [
    "df.head()"
   ]
  },
  {
   "cell_type": "code",
   "execution_count": 38,
   "id": "round-martin",
   "metadata": {},
   "outputs": [],
   "source": [
    "df.to_csv('whisky_clean.csv')"
   ]
  }
 ],
 "metadata": {
  "kernelspec": {
   "display_name": "Python 3",
   "language": "python",
   "name": "python3"
  },
  "language_info": {
   "codemirror_mode": {
    "name": "ipython",
    "version": 3
   },
   "file_extension": ".py",
   "mimetype": "text/x-python",
   "name": "python",
   "nbconvert_exporter": "python",
   "pygments_lexer": "ipython3",
   "version": "3.8.2"
  }
 },
 "nbformat": 4,
 "nbformat_minor": 5
}
